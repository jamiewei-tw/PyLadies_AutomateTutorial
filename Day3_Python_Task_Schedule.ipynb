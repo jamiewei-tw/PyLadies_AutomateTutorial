{
 "cells": [
  {
   "cell_type": "markdown",
   "metadata": {
    "slideshow": {
     "slide_type": "slide"
    }
   },
   "source": [
    "# Day 3\n",
    "# Task Schedule\n",
    "<br>\n",
    "<br>\n",
    "<br>\n",
    "---\n",
    "<h2 align=\"right\">Olly and Jamie</h2>\n"
   ]
  },
  {
   "cell_type": "markdown",
   "metadata": {
    "slideshow": {
     "slide_type": "subslide"
    }
   },
   "source": [
    "# Book\n",
    "<img src='https://automatetheboringstuff.com/images/automate_cover_medium.png' height=\"150\"></img>\n",
    "\n",
    "* Automate the Boring Stuff with Python\n",
    "    * [Translated Book](https://www.tenlong.com.tw/products/9789864762729)\n",
    "    * [Online eBook](https://automatetheboringstuff.com/)\n",
    "    * [Online Course -Udemy](https://softnshare.wordpress.com/2016/11/23/automateboringstuffwithpython/)\n",
    "* Environment require Python 3.4+"
   ]
  },
  {
   "cell_type": "markdown",
   "metadata": {
    "slideshow": {
     "slide_type": "subslide"
    }
   },
   "source": [
    "# Contents:\n",
    "\n",
    "### 1. [Basic python](https://github.com/iamshihshan/PyOllyTutorial/blob/master/01_Basic%20Python.ipynb)\n",
    "* Statement Assignment\n",
    "* print()\n",
    "* list/list slice\n",
    "* for loop + list (range)\n",
    "* while loop\n",
    "* str()\n",
    "* function\n",
    "\n",
    "### 2. Third-party modules\n",
    "* [time](https://docs.python.org/3/library/time.html)\n",
    "* [datetime](https://docs.python.org/3/library/datetime.html)\n",
    "* [threading](https://docs.python.org/3/library/threading.html)\n",
    "* [subprocess](https://docs.python.org/3/library/subprocess.html)"
   ]
  },
  {
   "cell_type": "markdown",
   "metadata": {
    "slideshow": {
     "slide_type": "subslide"
    }
   },
   "source": [
    "# Check Modules Exist\n",
    "### You don't need to install time/datetime/threadin/subprocess, because they are in [standard library](https://docs.python.org/3//library/index.html).\n",
    "### Without Error Massage!!\n",
    "\n",
    "```Python\n",
    "import time\n",
    "import datetime\n",
    "import threading\n",
    "import subprocess\n",
    "```\n"
   ]
  },
  {
   "cell_type": "markdown",
   "metadata": {
    "slideshow": {
     "slide_type": "subslide"
    }
   },
   "source": [
    "# Let's Start!"
   ]
  },
  {
   "cell_type": "markdown",
   "metadata": {
    "slideshow": {
     "slide_type": "slide"
    }
   },
   "source": [
    "# Time Module\n",
    "# time.time() Function"
   ]
  },
  {
   "cell_type": "markdown",
   "metadata": {
    "slideshow": {
     "slide_type": "fragment"
    }
   },
   "source": [
    "* ***Unix epoch*** is a time reference commonly used in programming\n",
    "* Start calculated the seconds form **12 AM on January 1, 1970**\n",
    "* The time.time() function returns the number of seconds since that moment as a float value"
   ]
  },
  {
   "cell_type": "markdown",
   "metadata": {
    "slideshow": {
     "slide_type": "subslide"
    }
   },
   "source": [
    "# Example\n",
    "### The return value is how many seconds have passed from the Unix epoch till now"
   ]
  },
  {
   "cell_type": "code",
   "execution_count": 1,
   "metadata": {
    "slideshow": {
     "slide_type": "-"
    }
   },
   "outputs": [
    {
     "data": {
      "text/plain": [
       "1529774409.810659"
      ]
     },
     "execution_count": 1,
     "metadata": {},
     "output_type": "execute_result"
    }
   ],
   "source": [
    "import time\n",
    "time.time()"
   ]
  },
  {
   "cell_type": "code",
   "execution_count": 2,
   "metadata": {
    "slideshow": {
     "slide_type": "subslide"
    }
   },
   "outputs": [
    {
     "name": "stdout",
     "output_type": "stream",
     "text": [
      "1 1\n",
      "2 2\n",
      "3 6\n",
      "4 24\n",
      "5 120\n",
      "6 720\n",
      "7 5040\n",
      "8 40320\n",
      "9 362880\n",
      "Cost time : 0.0009987354278564453\n"
     ]
    }
   ],
   "source": [
    "startTime = time.time()\n",
    "result = 1\n",
    "for i in range(1, 10):\n",
    "    result = result * i\n",
    "    print(i, result)\n",
    "endTime = time.time()\n",
    "\n",
    "duration = endTime - startTime\n",
    "print('Cost time : %s' %(duration))"
   ]
  },
  {
   "cell_type": "markdown",
   "metadata": {
    "slideshow": {
     "slide_type": "subslide"
    }
   },
   "source": [
    "# time.sleep() Function"
   ]
  },
  {
   "cell_type": "code",
   "execution_count": 3,
   "metadata": {
    "slideshow": {
     "slide_type": "-"
    }
   },
   "outputs": [
    {
     "name": "stdout",
     "output_type": "stream",
     "text": [
      "Wakeup Now!\n"
     ]
    }
   ],
   "source": [
    "import time\n",
    "time.sleep(5)\n",
    "print('Wakeup Now!')"
   ]
  },
  {
   "cell_type": "markdown",
   "metadata": {
    "slideshow": {
     "slide_type": "-"
    }
   },
   "source": [
    "### Notice!\n",
    "\n",
    "* If you enter time.sleep(5), you’ll see that the next prompt (>>>) doesn’t appear until five seconds have passed\n",
    "* Be aware that pressing CTRL-C will not interrupt time.sleep() in python IDLE\n",
    "* python IDLE introduction: https://docs.python.org/3/library/idle.html\n",
    "\n",
    "### To work around this problem, use a for loop...\n",
    "```Python\n",
    "import time\n",
    "for i in range(5):\n",
    "    time.sleep(1)\n",
    "print('Wakeup Now!')\n",
    "```"
   ]
  },
  {
   "cell_type": "markdown",
   "metadata": {
    "slideshow": {
     "slide_type": "subslide"
    }
   },
   "source": [
    "# round() Function\n",
    "##### round(number, ndigits)\n",
    "Python’s built-in round() function, which rounds a float to the precision you specify\n"
   ]
  },
  {
   "cell_type": "markdown",
   "metadata": {
    "slideshow": {
     "slide_type": "subslide"
    }
   },
   "source": [
    "### Notice!\n",
    "\n",
    "#### Difference of round() between Python2 and Python3:\n",
    "\n",
    "Values are rounded to the closest multiple of 10 to the power minus ndigits; if two multiples are equally close, ...\n",
    "* Python2: rounding is done away from 0.\n",
    "* Python3: rounding is done toward the even choice.\n",
    "\n",
    "<img src=\"https://github.com/jamiewei-tw/PyLadies_AutomateTutorial/blob/master/round.JPG\" height=\"387\" width=\"1275\"></img>"
   ]
  },
  {
   "cell_type": "code",
   "execution_count": 4,
   "metadata": {
    "slideshow": {
     "slide_type": "subslide"
    }
   },
   "outputs": [
    {
     "name": "stdout",
     "output_type": "stream",
     "text": [
      "1529774419.5746584\n"
     ]
    }
   ],
   "source": [
    "import time\n",
    "now = time.time()\n",
    "print (now)"
   ]
  },
  {
   "cell_type": "code",
   "execution_count": 5,
   "metadata": {},
   "outputs": [
    {
     "data": {
      "text/plain": [
       "1529774420"
      ]
     },
     "execution_count": 5,
     "metadata": {},
     "output_type": "execute_result"
    }
   ],
   "source": [
    "round(now)"
   ]
  },
  {
   "cell_type": "code",
   "execution_count": 6,
   "metadata": {},
   "outputs": [
    {
     "data": {
      "text/plain": [
       "1529774419.6"
      ]
     },
     "execution_count": 6,
     "metadata": {},
     "output_type": "execute_result"
    }
   ],
   "source": [
    "round(now, 1)"
   ]
  },
  {
   "cell_type": "code",
   "execution_count": 7,
   "metadata": {},
   "outputs": [
    {
     "data": {
      "text/plain": [
       "1529774419.575"
      ]
     },
     "execution_count": 7,
     "metadata": {},
     "output_type": "execute_result"
    }
   ],
   "source": [
    "round(now, 3)"
   ]
  },
  {
   "cell_type": "markdown",
   "metadata": {
    "slideshow": {
     "slide_type": "slide"
    }
   },
   "source": [
    "# Datetime Module"
   ]
  },
  {
   "cell_type": "markdown",
   "metadata": {
    "slideshow": {
     "slide_type": "fragment"
    }
   },
   "source": [
    "* Display a date in a more convenient format\n",
    "* Can do arithmetic with dates (e.g. : show the day of 30 days ago)"
   ]
  },
  {
   "cell_type": "markdown",
   "metadata": {
    "slideshow": {
     "slide_type": "subslide"
    }
   },
   "source": [
    "### The Datetime Module Has Its Own Datetime Data Type\n",
    "##### datetime.datetime(year, month, day, hour, minute, second, microsecond)"
   ]
  },
  {
   "cell_type": "code",
   "execution_count": 8,
   "metadata": {
    "slideshow": {
     "slide_type": "-"
    }
   },
   "outputs": [
    {
     "data": {
      "text/plain": [
       "datetime.datetime(2018, 6, 24, 1, 20, 24, 205663)"
      ]
     },
     "execution_count": 8,
     "metadata": {},
     "output_type": "execute_result"
    }
   ],
   "source": [
    "import datetime\n",
    "\n",
    "#Get localtime\n",
    "datetime.datetime.now()"
   ]
  },
  {
   "cell_type": "code",
   "execution_count": 9,
   "metadata": {},
   "outputs": [
    {
     "data": {
      "text/plain": [
       "datetime.datetime(2018, 6, 23, 17, 20, 24, 496661)"
      ]
     },
     "execution_count": 9,
     "metadata": {},
     "output_type": "execute_result"
    }
   ],
   "source": [
    "#Get UTCtime\n",
    "datetime.datetime.utcnow()"
   ]
  },
  {
   "cell_type": "code",
   "execution_count": 10,
   "metadata": {
    "slideshow": {
     "slide_type": "-"
    }
   },
   "outputs": [
    {
     "data": {
      "text/plain": [
       "(2018, 6, 24, 1, 20, 24)"
      ]
     },
     "execution_count": 10,
     "metadata": {},
     "output_type": "execute_result"
    }
   ],
   "source": [
    "now = datetime.datetime.now()\n",
    "now.year, now.month, now.day, now.hour, now.minute, now.second"
   ]
  },
  {
   "cell_type": "markdown",
   "metadata": {
    "slideshow": {
     "slide_type": "subslide"
    }
   },
   "source": [
    "### A Unix epoch timestamp converted to a datetime object\n",
    "##### datetime.datetime.fromtimestamp(Unix_Epoch)"
   ]
  },
  {
   "cell_type": "code",
   "execution_count": 11,
   "metadata": {
    "slideshow": {
     "slide_type": "-"
    }
   },
   "outputs": [
    {
     "data": {
      "text/plain": [
       "datetime.datetime(1970, 1, 12, 21, 46, 40)"
      ]
     },
     "execution_count": 11,
     "metadata": {},
     "output_type": "execute_result"
    }
   ],
   "source": [
    "datetime.datetime.fromtimestamp(1000000)"
   ]
  },
  {
   "cell_type": "code",
   "execution_count": 12,
   "metadata": {
    "slideshow": {
     "slide_type": "-"
    }
   },
   "outputs": [
    {
     "data": {
      "text/plain": [
       "datetime.datetime(2018, 6, 24, 1, 20, 26, 99658)"
      ]
     },
     "execution_count": 12,
     "metadata": {},
     "output_type": "execute_result"
    }
   ],
   "source": [
    "datetime.datetime.fromtimestamp(time.time())"
   ]
  },
  {
   "cell_type": "markdown",
   "metadata": {
    "slideshow": {
     "slide_type": "subslide"
    }
   },
   "source": [
    "### Datetime Could Apply with Comparison"
   ]
  },
  {
   "cell_type": "code",
   "execution_count": 13,
   "metadata": {
    "slideshow": {
     "slide_type": "-"
    }
   },
   "outputs": [],
   "source": [
    "NewYear = datetime.datetime(2018, 1, 1)\n",
    "ChristmasDay = datetime.datetime(2018, 12, 25)"
   ]
  },
  {
   "cell_type": "code",
   "execution_count": 14,
   "metadata": {
    "slideshow": {
     "slide_type": "-"
    }
   },
   "outputs": [
    {
     "data": {
      "text/plain": [
       "False"
      ]
     },
     "execution_count": 14,
     "metadata": {},
     "output_type": "execute_result"
    }
   ],
   "source": [
    "NewYear == ChristmasDay"
   ]
  },
  {
   "cell_type": "code",
   "execution_count": 15,
   "metadata": {
    "slideshow": {
     "slide_type": "-"
    }
   },
   "outputs": [
    {
     "data": {
      "text/plain": [
       "True"
      ]
     },
     "execution_count": 15,
     "metadata": {},
     "output_type": "execute_result"
    }
   ],
   "source": [
    "NewYear < ChristmasDay"
   ]
  },
  {
   "cell_type": "code",
   "execution_count": 16,
   "metadata": {
    "slideshow": {
     "slide_type": "-"
    }
   },
   "outputs": [
    {
     "data": {
      "text/plain": [
       "True"
      ]
     },
     "execution_count": 16,
     "metadata": {},
     "output_type": "execute_result"
    }
   ],
   "source": [
    "NewYear != ChristmasDay"
   ]
  },
  {
   "cell_type": "markdown",
   "metadata": {
    "slideshow": {
     "slide_type": "subslide"
    }
   },
   "source": [
    "# Timedelta Data Type\n",
    "##### datetime.timedelta(days, hours, minutes, seconds)\n",
    "### Represents a duration of time rather than a moment in time\n",
    "* delta.seconds = (**10hr** X 60 X 60) + (**10mins** X 60) + **10 seconds** = **36610** (seconds)\n",
    "* delta.total_seconds() = (**10days** X 24 X 60 X 60) + 36610 = **900610** (seconds)"
   ]
  },
  {
   "cell_type": "code",
   "execution_count": 17,
   "metadata": {
    "slideshow": {
     "slide_type": "-"
    }
   },
   "outputs": [
    {
     "data": {
      "text/plain": [
       "(10, 36610)"
      ]
     },
     "execution_count": 17,
     "metadata": {},
     "output_type": "execute_result"
    }
   ],
   "source": [
    "delta = datetime.timedelta(days=10, hours=10, minutes=10, seconds=10)\n",
    "delta.days, delta.seconds"
   ]
  },
  {
   "cell_type": "code",
   "execution_count": 18,
   "metadata": {
    "slideshow": {
     "slide_type": "-"
    }
   },
   "outputs": [
    {
     "data": {
      "text/plain": [
       "900610.0"
      ]
     },
     "execution_count": 18,
     "metadata": {},
     "output_type": "execute_result"
    }
   ],
   "source": [
    "delta.total_seconds()"
   ]
  },
  {
   "cell_type": "markdown",
   "metadata": {
    "slideshow": {
     "slide_type": "subslide"
    }
   },
   "source": [
    "### Notice!\n",
    "* There is no month or year keyword argument for input and output\n",
    "* Input: weeks, days, hours, minutes, seconds, milliseconds, microseconds\n",
    "* Output: days, seconds, microseconds, total_seconds"
   ]
  },
  {
   "cell_type": "code",
   "execution_count": 19,
   "metadata": {},
   "outputs": [
    {
     "data": {
      "text/plain": [
       "(17, 36610)"
      ]
     },
     "execution_count": 19,
     "metadata": {},
     "output_type": "execute_result"
    }
   ],
   "source": [
    "delta = datetime.timedelta(weeks=1, days=10, hours=10, minutes=10, seconds=10)\n",
    "delta.days, delta.seconds"
   ]
  },
  {
   "cell_type": "markdown",
   "metadata": {
    "slideshow": {
     "slide_type": "subslide"
    }
   },
   "source": [
    "### It could carry over"
   ]
  },
  {
   "cell_type": "code",
   "execution_count": 20,
   "metadata": {
    "slideshow": {
     "slide_type": "-"
    }
   },
   "outputs": [
    {
     "data": {
      "text/plain": [
       "(11, 36610)"
      ]
     },
     "execution_count": 20,
     "metadata": {},
     "output_type": "execute_result"
    }
   ],
   "source": [
    "delta_2 = datetime.timedelta(days=10, hours=34, minutes=10, seconds=10)\n",
    "delta_2.days, delta_2.seconds"
   ]
  },
  {
   "cell_type": "code",
   "execution_count": 21,
   "metadata": {
    "slideshow": {
     "slide_type": "-"
    }
   },
   "outputs": [
    {
     "data": {
      "text/plain": [
       "(10, 36611)"
      ]
     },
     "execution_count": 21,
     "metadata": {},
     "output_type": "execute_result"
    }
   ],
   "source": [
    "delta = datetime.timedelta(days=10, hours=10, minutes=10, seconds=10, milliseconds=1000)\n",
    "delta.days, delta.seconds"
   ]
  },
  {
   "cell_type": "markdown",
   "metadata": {
    "slideshow": {
     "slide_type": "subslide"
    }
   },
   "source": [
    "### Datetime Calculate with Operators"
   ]
  },
  {
   "cell_type": "code",
   "execution_count": 22,
   "metadata": {
    "slideshow": {
     "slide_type": "-"
    }
   },
   "outputs": [
    {
     "data": {
      "text/plain": [
       "datetime.datetime(2018, 6, 24, 1, 20, 32, 596659)"
      ]
     },
     "execution_count": 22,
     "metadata": {},
     "output_type": "execute_result"
    }
   ],
   "source": [
    "import datetime\n",
    "dt = datetime.datetime.now()\n",
    "dt"
   ]
  },
  {
   "cell_type": "code",
   "execution_count": 23,
   "metadata": {
    "slideshow": {
     "slide_type": "-"
    }
   },
   "outputs": [],
   "source": [
    "thousandDays = datetime.timedelta(days=1000)"
   ]
  },
  {
   "cell_type": "code",
   "execution_count": 24,
   "metadata": {
    "slideshow": {
     "slide_type": "-"
    }
   },
   "outputs": [
    {
     "data": {
      "text/plain": [
       "datetime.datetime(2021, 3, 20, 1, 20, 32, 596659)"
      ]
     },
     "execution_count": 24,
     "metadata": {},
     "output_type": "execute_result"
    }
   ],
   "source": [
    "dt + thousandDays"
   ]
  },
  {
   "cell_type": "code",
   "execution_count": 25,
   "metadata": {
    "slideshow": {
     "slide_type": "-"
    }
   },
   "outputs": [
    {
     "data": {
      "text/plain": [
       "datetime.datetime(2045, 11, 9, 1, 20, 32, 596659)"
      ]
     },
     "execution_count": 25,
     "metadata": {},
     "output_type": "execute_result"
    }
   ],
   "source": [
    "dt + thousandDays*10"
   ]
  },
  {
   "cell_type": "markdown",
   "metadata": {
    "slideshow": {
     "slide_type": "subslide"
    }
   },
   "source": [
    "# Converting datetime Objects into Strings\n",
    "\n",
    "|Strftime Directive | Meaning|\n",
    "|-------------------|---------------------------------------------------------|\n",
    "| %Y| Year with century, as in '2014'|\n",
    "| %y| Year without century, '70' to '99' (1970 to 1999) & '00' to '69' (2000 to 2069)|\n",
    "| %m| Month as a decimal number, '01' to '12'|\n",
    "| %B| Full month name, as in 'November'|\n",
    "| %b| Abbreviated month name, as in 'Nov'|\n",
    "| %d| Day of the month, '01' to '31'|\n",
    "| %j| Day of the year, '001' to '366'|\n",
    "| %w| Day of the week, '0' (Sunday) to '6' (Saturday)|\n",
    "| %A| Full weekday name, as in 'Monday'|\n",
    "| %a| Abbreviated weekday name, as in 'Mon'|\n",
    "| %H| Hour (24-hour clock), '00' to '23'|\n",
    "| %I| Hour (12-hour clock), '01' to '12'|\n",
    "| %M| Minute, '00' to '59'|\n",
    "| %S| Second, '00' to '59'|\n",
    "| %p| 'AM' or 'PM'|"
   ]
  },
  {
   "cell_type": "markdown",
   "metadata": {
    "slideshow": {
     "slide_type": "subslide"
    }
   },
   "source": [
    "##### .strftime(format)"
   ]
  },
  {
   "cell_type": "code",
   "execution_count": 26,
   "metadata": {
    "slideshow": {
     "slide_type": "-"
    }
   },
   "outputs": [
    {
     "data": {
      "text/plain": [
       "'2018/10/14 17:02:03'"
      ]
     },
     "execution_count": 26,
     "metadata": {},
     "output_type": "execute_result"
    }
   ],
   "source": [
    "import datetime\n",
    "oct14st = datetime.datetime(2018, 10, 14, 17, 2, 3)\n",
    "oct14st.strftime('%Y/%m/%d %H:%M:%S')"
   ]
  },
  {
   "cell_type": "code",
   "execution_count": 27,
   "metadata": {
    "slideshow": {
     "slide_type": "-"
    }
   },
   "outputs": [
    {
     "data": {
      "text/plain": [
       "'05:02 PM'"
      ]
     },
     "execution_count": 27,
     "metadata": {},
     "output_type": "execute_result"
    }
   ],
   "source": [
    "oct14st.strftime('%I:%M %p')"
   ]
  },
  {
   "cell_type": "code",
   "execution_count": 28,
   "metadata": {
    "slideshow": {
     "slide_type": "-"
    }
   },
   "outputs": [
    {
     "data": {
      "text/plain": [
       "\"October of '18\""
      ]
     },
     "execution_count": 28,
     "metadata": {},
     "output_type": "execute_result"
    }
   ],
   "source": [
    "oct14st.strftime(\"%B of '%y\")"
   ]
  },
  {
   "cell_type": "markdown",
   "metadata": {
    "slideshow": {
     "slide_type": "subslide"
    }
   },
   "source": [
    "# Converting Strings into datetime Objects\n",
    "##### datetime.datetime.strptime(date_string, format)"
   ]
  },
  {
   "cell_type": "code",
   "execution_count": 29,
   "metadata": {
    "slideshow": {
     "slide_type": "-"
    }
   },
   "outputs": [
    {
     "data": {
      "text/plain": [
       "datetime.datetime(2018, 10, 14, 0, 0)"
      ]
     },
     "execution_count": 29,
     "metadata": {},
     "output_type": "execute_result"
    }
   ],
   "source": [
    "datetime.datetime.strptime('October 14, 2018', '%B %d, %Y')"
   ]
  },
  {
   "cell_type": "code",
   "execution_count": 30,
   "metadata": {
    "slideshow": {
     "slide_type": "-"
    }
   },
   "outputs": [
    {
     "data": {
      "text/plain": [
       "datetime.datetime(2018, 10, 14, 1, 2, 3)"
      ]
     },
     "execution_count": 30,
     "metadata": {},
     "output_type": "execute_result"
    }
   ],
   "source": [
    "datetime.datetime.strptime('2018/10/14 01:02:03', '%Y/%m/%d %H:%M:%S')"
   ]
  },
  {
   "cell_type": "code",
   "execution_count": 31,
   "metadata": {
    "slideshow": {
     "slide_type": "-"
    }
   },
   "outputs": [
    {
     "data": {
      "text/plain": [
       "datetime.datetime(2018, 10, 1, 0, 0)"
      ]
     },
     "execution_count": 31,
     "metadata": {},
     "output_type": "execute_result"
    }
   ],
   "source": [
    "datetime.datetime.strptime(\"October of '18\", \"%B of '%y\")"
   ]
  },
  {
   "cell_type": "markdown",
   "metadata": {
    "slideshow": {
     "slide_type": "slide"
    }
   },
   "source": [
    "# Multithreading"
   ]
  },
  {
   "cell_type": "markdown",
   "metadata": {
    "slideshow": {
     "slide_type": "-"
    }
   },
   "source": [
    "### What's process?\n",
    "### What's thread?"
   ]
  },
  {
   "cell_type": "markdown",
   "metadata": {
    "slideshow": {
     "slide_type": "subslide"
    }
   },
   "source": [
    "```Python\n",
    "import time, datetime\n",
    "\n",
    "startTime = datetime.datetime(2029, 10, 31, 0, 0, 0)\n",
    "while datetime.datetime.now() < startTime:\n",
    "    time.sleep(1)\n",
    "\n",
    "print('Program now starting on Halloween 2029')\n",
    "```"
   ]
  },
  {
   "cell_type": "markdown",
   "metadata": {
    "slideshow": {
     "slide_type": "fragment"
    }
   },
   "source": [
    "* For the example above, your program cannot do anything while waiting till 2029/10/31\n",
    "* This is because Python programs by default have a single thread of execution"
   ]
  },
  {
   "cell_type": "markdown",
   "metadata": {
    "slideshow": {
     "slide_type": "fragment"
    }
   },
   "source": [
    "### For Avoiding this Problem, Try \"Multithreaded Program\" Now!"
   ]
  },
  {
   "cell_type": "markdown",
   "metadata": {
    "slideshow": {
     "slide_type": "subslide"
    }
   },
   "source": [
    "# Normal Program V.S. Threading Program"
   ]
  },
  {
   "cell_type": "markdown",
   "metadata": {
    "slideshow": {
     "slide_type": "-"
    }
   },
   "source": [
    "### Normal Program"
   ]
  },
  {
   "cell_type": "code",
   "execution_count": 32,
   "metadata": {
    "slideshow": {
     "slide_type": "-"
    }
   },
   "outputs": [
    {
     "name": "stdout",
     "output_type": "stream",
     "text": [
      "Start of program.\n",
      "Wake up!\n",
      "End of program\n"
     ]
    }
   ],
   "source": [
    "import threading, time\n",
    "\n",
    "print('Start of program.')\n",
    "\n",
    "def takeANap():\n",
    "    time.sleep(5)\n",
    "    print('Wake up!')\n",
    "    \n",
    "takeANap()\n",
    "\n",
    "print('End of program')"
   ]
  },
  {
   "cell_type": "markdown",
   "metadata": {
    "slideshow": {
     "slide_type": "subslide"
    }
   },
   "source": [
    "### Threading Program"
   ]
  },
  {
   "cell_type": "code",
   "execution_count": 33,
   "metadata": {},
   "outputs": [
    {
     "name": "stdout",
     "output_type": "stream",
     "text": [
      "Start of program.\n",
      "End of program\n",
      "Wake up!\n"
     ]
    }
   ],
   "source": [
    "import threading, time\n",
    "\n",
    "print('Start of program.')\n",
    "\n",
    "def takeANap():\n",
    "    time.sleep(5)\n",
    "    print('Wake up!')\n",
    "    \n",
    "threadObj = threading.Thread(target=takeANap)\n",
    "threadObj.start()\n",
    "\n",
    "print('End of program')"
   ]
  },
  {
   "cell_type": "markdown",
   "metadata": {
    "slideshow": {
     "slide_type": "subslide"
    }
   },
   "source": [
    "# Passing Arguments to the Thread’s Target Function\n",
    "##### threading.Thread(target, kwargs)"
   ]
  },
  {
   "cell_type": "code",
   "execution_count": 34,
   "metadata": {
    "slideshow": {
     "slide_type": "-"
    }
   },
   "outputs": [
    {
     "name": "stdout",
     "output_type": "stream",
     "text": [
      "Cats & Dogs & Frogs\n"
     ]
    }
   ],
   "source": [
    "print('Cats', 'Dogs', 'Frogs', sep=' & ')"
   ]
  },
  {
   "cell_type": "code",
   "execution_count": 35,
   "metadata": {
    "slideshow": {
     "slide_type": "subslide"
    }
   },
   "outputs": [
    {
     "name": "stdout",
     "output_type": "stream",
     "text": [
      "Cats & Dogs & Frogs\n"
     ]
    }
   ],
   "source": [
    "import threading\n",
    "threadObj = threading.Thread(target=print, args=['Cats', 'Dogs', 'Frogs'], kwargs={'sep': ' & '})\n",
    "threadObj.start()"
   ]
  },
  {
   "cell_type": "markdown",
   "metadata": {
    "slideshow": {
     "slide_type": "-"
    }
   },
   "source": [
    "### Notice!\n",
    "* The **concurrency issues** may happen when threads read and write variables at the same time."
   ]
  },
  {
   "cell_type": "markdown",
   "metadata": {
    "slideshow": {
     "slide_type": "slide"
    }
   },
   "source": [
    "# Launching Other Programs from Python\n",
    "### For Windows\n",
    "```Python\n",
    "import subprocess\n",
    "subprocess.Popen('C:\\\\Windows\\\\System32\\\\calc.exe')\n",
    "```\n",
    "### For OS X\n",
    "```Python\n",
    "import subprocess\n",
    "subprocess.Popen(['open', '/Applications/Calculator.app/'])\n",
    "```\n",
    "### For Ubuntu Linux\n",
    "```Python\n",
    "import subprocess\n",
    "subprocess.Popen(['see', '/usr/bin/gnome-calculator'])\n",
    "```"
   ]
  },
  {
   "cell_type": "code",
   "execution_count": 36,
   "metadata": {
    "slideshow": {
     "slide_type": "skip"
    }
   },
   "outputs": [
    {
     "data": {
      "text/plain": [
       "<subprocess.Popen at 0x18f08222470>"
      ]
     },
     "execution_count": 36,
     "metadata": {},
     "output_type": "execute_result"
    }
   ],
   "source": [
    "import subprocess\n",
    "subprocess.Popen('C:\\\\Windows\\\\System32\\\\calc.exe')"
   ]
  },
  {
   "cell_type": "markdown",
   "metadata": {
    "slideshow": {
     "slide_type": "subslide"
    }
   },
   "source": [
    "# Open Files with Default Application\n",
    "### Use 'start' for Windows\n",
    "```Python\n",
    "import subprocess\n",
    "subprocess.Popen(['start','OOOO.txt'], shell=True)\n",
    "```\n",
    "### Use 'open' for OS X\n",
    "```Python\n",
    "import subprocess\n",
    "subprocess.Popen(['open', 'OOOO.txt'])\n",
    "```\n",
    "### Use 'see' for Ubuntu Linux\n",
    "```Python\n",
    "import subprocess\n",
    "subprocess.Popen(['see', 'OOOO.txt'])\n",
    "```"
   ]
  },
  {
   "cell_type": "markdown",
   "metadata": {
    "slideshow": {
     "slide_type": "subslide"
    }
   },
   "source": [
    "# Create an New Text File and Open with Default Application"
   ]
  },
  {
   "cell_type": "code",
   "execution_count": 37,
   "metadata": {
    "slideshow": {
     "slide_type": "-"
    }
   },
   "outputs": [
    {
     "data": {
      "text/plain": [
       "<subprocess.Popen at 0x18f08222860>"
      ]
     },
     "execution_count": 37,
     "metadata": {},
     "output_type": "execute_result"
    }
   ],
   "source": [
    "fileObj = open('D3_01.txt', 'w')\n",
    "fileObj.write('Hello world!')\n",
    "fileObj.close()\n",
    "\n",
    "import subprocess\n",
    "subprocess.Popen(['start', 'D3_01.txt'], shell=True)"
   ]
  },
  {
   "cell_type": "markdown",
   "metadata": {
    "slideshow": {
     "slide_type": "-"
    }
   },
   "source": [
    "<img src=\"D3_05.JPG\" height=\"1200\" width=\"600\"></img>"
   ]
  },
  {
   "cell_type": "markdown",
   "metadata": {
    "slideshow": {
     "slide_type": "subslide"
    }
   },
   "source": [
    "# Running Other Python Scripts\n",
    "### Where is your python3 location?\n",
    "#### On Windows terminal\n",
    "    > where python3\n",
    "    \n",
    "#### On OS X & Ubuntu Linux terminal\n",
    "    $ which python3"
   ]
  },
  {
   "cell_type": "markdown",
   "metadata": {
    "slideshow": {
     "slide_type": "subslide"
    }
   },
   "source": [
    "## Create an New Python File and Running Script\n",
    "\n",
    "### For Windows\n",
    "```Python\n",
    "import subprocess\n",
    "subprocess.Popen([r'C:\\Program Files\\Python36\\python3.exe', 'D3_02.py'])\n",
    "```\n",
    "\n",
    "### For OS X & Ubuntu Linux\n",
    "```Python\n",
    "import subprocess\n",
    "subprocess.Popen([r'/usr/bin/python3', 'D3_02.py'])\n",
    "```"
   ]
  },
  {
   "cell_type": "code",
   "execution_count": 38,
   "metadata": {
    "slideshow": {
     "slide_type": "-"
    }
   },
   "outputs": [
    {
     "data": {
      "text/plain": [
       "<subprocess.Popen at 0x18f08222780>"
      ]
     },
     "execution_count": 38,
     "metadata": {},
     "output_type": "execute_result"
    }
   ],
   "source": [
    "fileObj = open('D3_02.py', 'w')\n",
    "fileObj.write('print(\"Hello Jamie!\")')\n",
    "fileObj.close()\n",
    "\n",
    "subprocess.Popen([r'C:\\Program Files\\Python36\\python3.exe', 'D3_02.py'])"
   ]
  },
  {
   "cell_type": "markdown",
   "metadata": {
    "slideshow": {
     "slide_type": "-"
    }
   },
   "source": [
    "<img src=\"D3_07.JPG\" height=\"400\" width=\"1300\"></img>"
   ]
  },
  {
   "cell_type": "markdown",
   "metadata": {
    "slideshow": {
     "slide_type": "slide"
    }
   },
   "source": [
    "# Project : Create a Task for Out-of-office Notification"
   ]
  },
  {
   "cell_type": "markdown",
   "metadata": {
    "slideshow": {
     "slide_type": "subslide"
    }
   },
   "source": [
    "1. Choose notification [picture](Imgs/D3_08.GIF) you like\n",
    "2. Count for the current DateTime\n",
    "3. Before the time you could get off, use time.sleep(1) and refresh the current time at the end of loop\n",
    "4. If times up, open picture with subprocess.Popen()\n",
    "\n",
    "```Python\n",
    "import time, datetime, subprocess\n",
    "```"
   ]
  },
  {
   "cell_type": "code",
   "execution_count": 40,
   "metadata": {
    "slideshow": {
     "slide_type": "subslide"
    }
   },
   "outputs": [
    {
     "name": "stdout",
     "output_type": "stream",
     "text": [
      "2018-06-24 01:21:52.094659\n",
      "21:53>21:54>21:55>21:56>21:57>21:58>21:59>22:0>"
     ]
    },
    {
     "data": {
      "text/plain": [
       "<subprocess.Popen at 0x18f08226320>"
      ]
     },
     "execution_count": 40,
     "metadata": {},
     "output_type": "execute_result"
    }
   ],
   "source": [
    "import time, datetime, subprocess\n",
    "\n",
    "now = datetime.datetime.now()\n",
    "print(now)\n",
    "\n",
    "while now.minute!=22:\n",
    "    time.sleep(1)\n",
    "    now = datetime.datetime.now()\n",
    "    print(str(now.minute)+':'+str(now.second), end='>')\n",
    "    \n",
    "subprocess.Popen(['start', 'snoopy.JPG'], shell=True)"
   ]
  },
  {
   "cell_type": "markdown",
   "metadata": {
    "slideshow": {
     "slide_type": "slide"
    }
   },
   "source": [
    "# Exercise"
   ]
  },
  {
   "cell_type": "markdown",
   "metadata": {
    "slideshow": {
     "slide_type": "fragment"
    }
   },
   "source": [
    "### Simple Countdown Program\n",
    "#### Step 0 : Choose Notification [Music](Docs/Sleep_Away.mp3) You like\n",
    "#### Step 1: Count Down\n",
    "#### Step 2: Play the Sound File"
   ]
  },
  {
   "cell_type": "markdown",
   "metadata": {
    "slideshow": {
     "slide_type": "subslide"
    }
   },
   "source": [
    "# Answer"
   ]
  },
  {
   "cell_type": "code",
   "execution_count": 41,
   "metadata": {
    "slideshow": {
     "slide_type": "fragment"
    }
   },
   "outputs": [
    {
     "name": "stdout",
     "output_type": "stream",
     "text": [
      "5>4>3>2>1>"
     ]
    },
    {
     "data": {
      "text/plain": [
       "<subprocess.Popen at 0x18f08222a20>"
      ]
     },
     "execution_count": 41,
     "metadata": {},
     "output_type": "execute_result"
    }
   ],
   "source": [
    "import time, subprocess\n",
    "\n",
    "timeLeft = 5\n",
    "while timeLeft > 0:\n",
    "    print(timeLeft, end='>')\n",
    "    time.sleep(1)\n",
    "    timeLeft = timeLeft - 1\n",
    "\n",
    "subprocess.Popen(['start', 'Sleep_Away.mp3'], shell=True)"
   ]
  },
  {
   "cell_type": "markdown",
   "metadata": {
    "slideshow": {
     "slide_type": "subslide"
    }
   },
   "source": [
    "<h1 align=\"center\">def Day3End() :</h1>\n",
    "<h1 align=\"center\">&emsp;&emsp;&emsp;&emsp;&emsp;return 'Thank U ❤'</h1>"
   ]
  }
 ],
 "metadata": {
  "celltoolbar": "Slideshow",
  "kernelspec": {
   "display_name": "Python 3",
   "language": "python",
   "name": "python3"
  },
  "language_info": {
   "codemirror_mode": {
    "name": "ipython",
    "version": 3
   },
   "file_extension": ".py",
   "mimetype": "text/x-python",
   "name": "python",
   "nbconvert_exporter": "python",
   "pygments_lexer": "ipython3",
   "version": "3.6.5"
  }
 },
 "nbformat": 4,
 "nbformat_minor": 1
}
